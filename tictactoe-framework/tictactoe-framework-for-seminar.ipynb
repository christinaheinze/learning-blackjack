{
 "cells": [
  {
   "cell_type": "markdown",
   "metadata": {},
   "source": [
    "# Learning TicTacToe"
   ]
  },
  {
   "cell_type": "code",
   "execution_count": null,
   "metadata": {
    "collapsed": false
   },
   "outputs": [],
   "source": [
    "from copy import deepcopy\n",
    "import time\n",
    "import sys\n",
    "import matplotlib.pyplot as plt\n",
    "import numpy as np\n",
    "import random\n",
    "import itertools\n",
    "from IPython import display"
   ]
  },
  {
   "cell_type": "markdown",
   "metadata": {},
   "source": [
    "## Board Class"
   ]
  },
  {
   "cell_type": "code",
   "execution_count": null,
   "metadata": {
    "collapsed": false
   },
   "outputs": [],
   "source": [
    "class Board(object):\n",
    "    \"\"\" A TicTacToe Board. \"\"\"\n",
    "    def __init__(self, choose_random = True, win_pos = np.nan):\n",
    "        self.fields = np.array(9*[0])\n",
    "        self.num_moves = sum(abs(self.fields))\n",
    "        if choose_random:\n",
    "            np.random.seed(1)\n",
    "            # contains all choose(9,3) == 84 possible combinations of three numbers between 0 and 8\n",
    "            all_combinations_of_three = list(itertools.combinations(range(9), 3))\n",
    "            #randomly choose 8 of those\n",
    "            self.winning_positions = list(all_combinations_of_three[i] for i in np.random.randint(0, 83, 8))\n",
    "            print self.winning_positions\n",
    "        else:\n",
    "            self.winning_positions = win_pos\n",
    "            \n",
    "    def reset(self):\n",
    "        self.fields = np.array(9*[0])\n",
    "        self.num_moves = 0\n",
    "        "
   ]
  },
  {
   "cell_type": "markdown",
   "metadata": {},
   "source": [
    "## Game Class"
   ]
  },
  {
   "cell_type": "code",
   "execution_count": null,
   "metadata": {
    "collapsed": true
   },
   "outputs": [],
   "source": [
    "\n",
    "class Game(object):\n",
    "    def __init__(self):\n",
    "        self.prob = []\n",
    "        self.game_state = []\n",
    "        self.action = []\n",
    "        self.final_game_state = []\n",
    "        self.result = 0\n",
    "        \n",
    "    def reset(self):\n",
    "        self.prob = []\n",
    "        self.game_state = []\n",
    "        self.action = []\n",
    "        self.final_game_state = []\n",
    "        self.result = 0\n",
    "    \n",
    "    def __str__(self):\n",
    "        return self.prob\n",
    "        \n"
   ]
  },
  {
   "cell_type": "markdown",
   "metadata": {},
   "source": [
    "## Table Class"
   ]
  },
  {
   "cell_type": "code",
   "execution_count": null,
   "metadata": {
    "collapsed": true
   },
   "outputs": [],
   "source": [
    "class Table(object):\n",
    "    def __init__(self, player1, player2):\n",
    "        self.player1 = player1\n",
    "        self.player2 = player2\n",
    "        self.player1_won = 0\n",
    "        self.player2_won = 0\n",
    "        self.credits = []\n",
    "        self.output = True\n",
    "        self.board = Board()\n",
    "        self.game_is_on = True\n",
    "        self.num_games = 0\n",
    "    \n",
    "    def reset(self):\n",
    "        self.board.reset()\n",
    "        self.game_is_on = True\n",
    "\n",
    "    def play_a_game(self, game_id):\n",
    "        self.reset()\n",
    "        while self.game_is_on:\n",
    "            if (self.board.num_moves + game_id)%2 == 0: #player1's turn\n",
    "                a = self.player1.action(1 * self.board.fields, self.board.winning_positions)\n",
    "                if self.output:\n",
    "                    print(self.player1.name + \" decided to play \" + str(a))\n",
    "                if (a<9 and 0<=a ):\n",
    "                    if (self.board.fields[a] == 0):\n",
    "                        self.board.fields[a] = 1\n",
    "                    else:\n",
    "                        raise NameError('This field is already occupied!!')\n",
    "                else:\n",
    "                    raise NameError('The fields are numbered from 0 to 8!')\n",
    "                    \n",
    "            else: #player 2's turn\n",
    "                a = self.player2.action(-1 * self.board.fields, self.board.winning_positions)\n",
    "                if self.output:\n",
    "                    print(self.player2.name + \" decided to play \" + str(a))\n",
    "                if (a<9 and 0<=a):\n",
    "                    if (self.board.fields[a] == 0):\n",
    "                        self.board.fields[a] = -1 \n",
    "                    else:    \n",
    "                        raise NameError('This field is already occupied!!')\n",
    "                else:\n",
    "                    raise NameError('The fields are numbered from 0 to 8!')\n",
    "            self.board.num_moves += 1\n",
    "            self.evaluate_board()\n",
    "            \n",
    "    \n",
    "    def end_game(self, result):\n",
    "        if self.num_games == 0:\n",
    "            # self.credits = np.array([self.player1_won,self.player2_won])\n",
    "            self.credits = np.array([self.player1_won,self.player2_won])\n",
    "        else:\n",
    "            self.credits = np.vstack((self.credits, [self.player1_won,self.player2_won]))     \n",
    "        self.num_games += 1\n",
    "        self.game_is_on = False\n",
    "        self.player1.end_game(self.board.fields, result, self.num_games)\n",
    "        self.player2.end_game(-self.board.fields, -result, self.num_games) \n",
    "        \n",
    "        \n",
    "    def evaluate_board(self):\n",
    "        # if less than 5 fields are occupied, keep playing.\n",
    "        if self.board.num_moves < 5:\n",
    "            return 0\n",
    "        else:\n",
    "            #print self.board.num_moves\n",
    "            for i in range(7):\n",
    "                cur_win_pos = self.board.winning_positions[i]\n",
    "                field_evaluated = sum( [self.board.fields[j] for j in cur_win_pos ])\n",
    "                if (self.game_is_on and field_evaluated == 3):\n",
    "                    self.player1_won += 1\n",
    "                    if self.output:\n",
    "                        print self.player1.name + \" won! Winning position: \" + str(cur_win_pos)\n",
    "                    self.end_game(1) #player1 won!\n",
    "                                        \n",
    "                elif (self.game_is_on and field_evaluated == -3):\n",
    "                    self.player2_won += 1\n",
    "                    if self.output:\n",
    "                        print self.player2.name + \" won! Winning position: \" + str(cur_win_pos)\n",
    "                    self.end_game(-1) #player2 won!\n",
    "                    \n",
    "            if (self.game_is_on and (self.board.num_moves == 9)):\n",
    "                if self.output: \n",
    "                    print \"draw!\"\n",
    "                self.end_game(0) #draw!\n",
    "\n",
    "  "
   ]
  },
  {
   "cell_type": "markdown",
   "metadata": {},
   "source": [
    "## Strategy Class"
   ]
  },
  {
   "cell_type": "code",
   "execution_count": null,
   "metadata": {
    "collapsed": true
   },
   "outputs": [],
   "source": [
    "class Strategy(object):\n",
    "    def __init__(self):\n",
    "        self.table = {}"
   ]
  },
  {
   "cell_type": "markdown",
   "metadata": {},
   "source": [
    "## Player Class"
   ]
  },
  {
   "cell_type": "code",
   "execution_count": null,
   "metadata": {
    "collapsed": false
   },
   "outputs": [],
   "source": [
    "class Player(object):\n",
    "    \"\"\" A Player. \"\"\"\n",
    "    def __init__(self, name):\n",
    "        self.name = name\n",
    "    \n",
    "    def reset(self):\n",
    "        self.game.reset()\n",
    "         \n",
    "    def action(self, state, winningpos):\n",
    "        pass\n",
    "        \n",
    "    def end_game(self, state, result, num_games):\n",
    "        pass\n",
    "    \n",
    "    def update_strategy(self, num_games):\n",
    "        pass\n",
    "    "
   ]
  },
  {
   "cell_type": "markdown",
   "metadata": {},
   "source": [
    "## History"
   ]
  },
  {
   "cell_type": "code",
   "execution_count": null,
   "metadata": {
    "collapsed": true
   },
   "outputs": [],
   "source": [
    "class History(object):\n",
    "    def __init__(self):\n",
    "        self.game = []\n",
    "        \n",
    "    def add_game(self, g):\n",
    "        self.game.append(deepcopy(g)) \n",
    "        \n",
    "    def remove_almost_all_games(self, nn):\n",
    "        self.game = self.game[(-nn):(-1)]"
   ]
  },
  {
   "cell_type": "markdown",
   "metadata": {},
   "source": [
    "## Strategic Player Class"
   ]
  },
  {
   "cell_type": "code",
   "execution_count": null,
   "metadata": {
    "collapsed": false
   },
   "outputs": [],
   "source": [
    "class StrategicPlayer(Player):\n",
    "    \"\"\" A player with different strategies. \"\"\"\n",
    "    #has an object strategy, which is a look-up table and defines all actions\n",
    "    def __init__(self, name, cre=0):\n",
    "        self.name = name\n",
    "        self.game = Game()\n",
    "        self.history = History()\n",
    "        self.strategy = Strategy()    \n",
    "        self.rangeeight = np.array([0,1,2,3,4,5,6,7,8]) \n",
    "        \n",
    "    def hash_state(self,state): #this is not really hashing. \n",
    "        return np.array_str(state)\n",
    "    \n",
    "    def dehash_state(self, gs):\n",
    "        c = gs.replace('[', '').replace(']','')\n",
    "        d = np.fromstring(c, sep = \" \")\n",
    "        return d        \n",
    "    \n",
    "    def action(self, state, winningpos):\n",
    "        #print self.strategy.table\n",
    "        hstate = self.hash_state(state)\n",
    "        if hstate in self.strategy.table:\n",
    "            # print 'I have seen the state before!'\n",
    "            pr = self.strategy.table[hstate] #vector of probabilities\n",
    "            #print self.strategy.table\n",
    "        else:\n",
    "            pr = np.zeros(9)\n",
    "            emptyfields = np.array(np.where(state == 0)).flatten()\n",
    "            pr[emptyfields] = 1/float(len(emptyfields))\n",
    "            self.strategy.table[hstate] = pr\n",
    "\n",
    "        act = np.random.choice(self.rangeeight, p = pr)\n",
    "        \n",
    "        #print self.strategy.table\n",
    "        self.game.prob.append(pr[act])\n",
    "        self.game.game_state.append(state)\n",
    "        self.game.action.append(act)\n",
    "        return act\n",
    " \n",
    "\n",
    "    def end_game(self, state, result, num_games):\n",
    "        self.game.final_game_state = state\n",
    "        self.game.result = result\n",
    "        self.history.add_game(self.game)\n",
    "        self.update_strategy(num_games)\n",
    "        self.game = Game()\n",
    "        # do sth with the history\n",
    "    \n",
    "\n",
    "    def update_strategy(self, num_games):\n",
    "        pass\n",
    "        \n"
   ]
  },
  {
   "cell_type": "markdown",
   "metadata": {},
   "source": [
    "## Explore-Exploit Player Class"
   ]
  },
  {
   "cell_type": "code",
   "execution_count": null,
   "metadata": {
    "collapsed": false
   },
   "outputs": [],
   "source": [
    "class ExploreExploitPlayer(StrategicPlayer):\n",
    "    \"\"\" A player with different strategies. \"\"\"\n",
    "    #has an object strategy, which is a look-up table and defines all actions\n",
    "    def __init__(self, name, cre=0):\n",
    "        self.name = name\n",
    "        self.game = Game()\n",
    "        self.history = History()\n",
    "        self.strategy = Strategy()\n",
    "        self.rangeeight = np.array([0,1,2,3,4,5,6,7,8]) \n",
    "    \n",
    "    \n",
    "    \n",
    "    def update_strategy(self, num_games):\n",
    "        if ((num_games % 1000 == 0) and ((game_id < 1002) and (game_id > 0))):\n",
    "            print '...updating strategy...'\n",
    "    \n",
    "            cum_gain_action_taken = dict(zip(self.strategy.table.keys(),\n",
    "                                             [np.zeros(9) for k in range(len(self.strategy.table.keys()))]))\n",
    "            #this creates a dictionary with the same keys in table but with zero entries. (could be simplified!?)\n",
    "            \n",
    "            \n",
    "            # go through all games in history\n",
    "            for g in self.history.game:\n",
    "                # go through all game states in game g\n",
    "                for decisions_game_i in range(len(g.game_state)):\n",
    "                    # get hashed game state\n",
    "                    a = self.hash_state(g.game_state[decisions_game_i])              \n",
    "                    # compute cum_gain_action_taken\n",
    "                    \n",
    "            #print cum_gain_action_taken        \n",
    "            \n",
    "            #update strategy to always use the best action\n",
    "            for game_state_hashed in self.strategy.table.keys():\n",
    "                d = self.dehash_state(game_state_hashed)\n",
    "                # change....\n",
    "            #print self.strategy.table\n",
    "                "
   ]
  },
  {
   "cell_type": "markdown",
   "metadata": {},
   "source": [
    "## Random Player Class"
   ]
  },
  {
   "cell_type": "code",
   "execution_count": null,
   "metadata": {
    "collapsed": false
   },
   "outputs": [],
   "source": [
    "class RandomPlayer(Player):\n",
    "    \"\"\" Random, a player with a predefined (completely random) strategy. \"\"\"\n",
    "    def __init__(self):\n",
    "        self.name = \"Rando M.\"\n",
    "        \n",
    "    def action(self, state, winningpos):\n",
    "        emptyfields = np.array(np.where(state == 0)).flatten()\n",
    "        if len(emptyfields) == 1:\n",
    "            ind = 0\n",
    "        else:\n",
    "            ind = np.random.randint(0, sum(state == 0)-1)    \n",
    "        ret = emptyfields[ind]\n",
    "        return ret \n"
   ]
  },
  {
   "cell_type": "markdown",
   "metadata": {},
   "source": [
    "## Value-by-Hand Player Class"
   ]
  },
  {
   "cell_type": "code",
   "execution_count": null,
   "metadata": {
    "collapsed": true
   },
   "outputs": [],
   "source": [
    "class ValuePlayer(Player):\n",
    "    \"\"\" Random, a player with a predefined (completely random) strategy. \"\"\"\n",
    "    def __init__(self):\n",
    "        self.name = \"Val Hand\"\n",
    "        \n",
    "    def provide_value(self, state, future_state, winningpos):\n",
    "        # change this\n",
    "        return 0\n",
    "            \n",
    "    \n",
    "    def action(self, state, winningpos):\n",
    "        emptyfields = np.array(np.where(state == 0)).flatten()\n",
    "        a = np.array([-np.inf, -np.inf, -np.inf, -np.inf, -np.inf, -np.inf, -np.inf, -np.inf, -np.inf])\n",
    "        for i in emptyfields:\n",
    "            future_state = np.array(state)\n",
    "            future_state[i] = 1\n",
    "            a[i] = self.provide_value(state, future_state, winningpos)\n",
    "        #print state\n",
    "        #print a\n",
    "        return np.argmax(a)\n"
   ]
  },
  {
   "cell_type": "markdown",
   "metadata": {},
   "source": [
    "## AlwaysLeft Player Class"
   ]
  },
  {
   "cell_type": "code",
   "execution_count": null,
   "metadata": {
    "collapsed": true
   },
   "outputs": [],
   "source": [
    "class AlwaysLeftPlayer(Player):\n",
    "    \"\"\" A player who always puts a mark on the first free field. \"\"\"\n",
    "    def __init__(self):\n",
    "        self.name = \"Lefto\"\n",
    "            \n",
    "    def action(self, state, winningpos):\n",
    "        emptyfields = np.array(np.where(state == 0)).flatten()\n",
    "        ret = emptyfields[0]\n",
    "        return ret \n"
   ]
  },
  {
   "cell_type": "markdown",
   "metadata": {},
   "source": [
    "## Human Player Class"
   ]
  },
  {
   "cell_type": "code",
   "execution_count": null,
   "metadata": {
    "collapsed": false
   },
   "outputs": [],
   "source": [
    "class HumanPlayer(Player):\n",
    "    def __init__(self, name=\"Human\"):\n",
    "        self.name = name\n",
    "        \n",
    "    \n",
    "    def action(self, state, winningpos):\n",
    "        response = \"a\"\n",
    "        print(\"The current position is: \" + str(state) + \".\")\n",
    "        s = \"where do you want to make the next cross?\"\n",
    "        while type(response) != int:\n",
    "            response = input(self.name + \", \" + s + \" (number between 0 and 8): \")\n",
    "        return response\n",
    "    \n",
    "        "
   ]
  },
  {
   "cell_type": "markdown",
   "metadata": {},
   "source": [
    "## Play TicTacToe"
   ]
  },
  {
   "cell_type": "code",
   "execution_count": null,
   "metadata": {
    "collapsed": false,
    "scrolled": true
   },
   "outputs": [],
   "source": [
    "%matplotlib\n",
    "\n",
    "\n",
    "random.seed(2)\n",
    "\n",
    "do_plot = False\n",
    "\n",
    "n_games = 2000\n",
    "\n",
    "\n",
    "# create and add players\n",
    "p1 = HumanPlayer(\"Human1\")\n",
    "p2 = RandomPlayer()\n",
    "p3 = AlwaysLeftPlayer()\n",
    "p6 = ValuePlayer()\n",
    "p7 = ExploreExploitPlayer(\"DoubleExponential\")\n",
    "\n",
    "players = [p7, p6, p3]\n",
    "\n",
    "\n",
    "\n",
    "num_players = len(players)\n",
    "results = np.transpose(np.matrix(np.zeros(num_players)))*np.zeros(num_players)\n",
    "for i in range(num_players):\n",
    "    results[i,i] = np.nan\n",
    "\n",
    "\n",
    "\n",
    "\n",
    "for j in range(num_players):\n",
    "    for i in range(j):\n",
    "        if (i != j): # not necessary\n",
    "            p1t = players[i]\n",
    "            p2t = players[j]\n",
    "            \n",
    "            Credits = np.zeros((2,n_games))\n",
    "            tableETH = Table(p1t, p2t)\n",
    "            tableETH.output = False\n",
    "\n",
    "            if(do_plot):\n",
    "                #plt.close(\"all\")\n",
    "                plt.axis([0, n_games, -10, 1000])\n",
    "                lines = [plt.plot([], [])[0] for _ in range(2)]\n",
    "                plt.show()\n",
    "\n",
    "            print '\\n'    \n",
    "            print \"Player\", p1t.name, \" is playing against \", p2t.name, \"...\"\n",
    "            \n",
    "            for game_id in range(n_games):\n",
    "                \n",
    "                #if(game_id == 1998):\n",
    "                #   tableETH.output = True \n",
    "                \n",
    "                #play game\n",
    "                tableETH.play_a_game(game_id)\n",
    "                if tableETH.output:\n",
    "                    print \"\\rYou have finished %d games\" % game_id,\n",
    "                    print \"Board: \" + str(tableETH.board.fields)\n",
    "                    sys.stdout.flush()\n",
    "                \n",
    "\n",
    "                if(do_plot):\n",
    "                    # Update plot every 20 games\n",
    "                    if ((game_id > 0) and (game_id % 20 == 0)):\n",
    "                        Credits = np.transpose(tableETH.credits)\n",
    "                        if (np.min(Credits) < plt.gca().get_ylim()[0]):\n",
    "                            plt.gca().set_ylim([np.min(Credits)-10,100])\n",
    "                        for i in range(2):\n",
    "                            lines[i].set_xdata(range(game_id+1))\n",
    "                            lines[i].set_ydata(Credits[i,0:(game_id+1)])\n",
    "                        plt.draw()\n",
    "                        time.sleep(0.1)\n",
    "\n",
    "\n",
    "\n",
    "            print \"Player\", p1t.name, \" has won \", tableETH.player1_won, \" games.\"\n",
    "            print \"Player\", p2t.name, \" has won \", tableETH.player2_won, \" games.\" \n",
    "            \n",
    "            if tableETH.output:\n",
    "                print np.transpose(tableETH.credits)\n",
    "\n",
    "            results[i,j] = tableETH.player1_won - tableETH.player2_won\n",
    "            results[j,i] = tableETH.player2_won - tableETH.player1_won\n",
    "            \n",
    "            print [p.name for p in players]\n",
    "            print results\n",
    "            \n",
    "for i in range(num_players):\n",
    "    results[i,i] = 0\n",
    "\n",
    "\n",
    "print ''\n",
    "print '---------'\n",
    "print 'Total number of games the players have won:'\n",
    "print [p.name for p in players]\n",
    "print sum(np.transpose(results))\n",
    "print '---------'\n",
    "print 'Total number of duels the players have won:'\n",
    "print [p.name for p in players]\n",
    "print sum(np.transpose(results)>0)\n"
   ]
  },
  {
   "cell_type": "markdown",
   "metadata": {},
   "source": [
    "# Plotten\n"
   ]
  },
  {
   "cell_type": "code",
   "execution_count": null,
   "metadata": {
    "collapsed": false
   },
   "outputs": [],
   "source": [
    "import matplotlib.pyplot as plt\n",
    "plt.axis([0, n_games, -10, n_games])\n",
    "lines = [plt.plot([], [], label=p.name)[0] for p in players]\n",
    "plt.legend(loc='upper left', fontsize=10)\n",
    "plt.show()\n",
    "Credits = np.transpose(tableETH.credits)\n",
    "if (np.min(Credits) < plt.gca().get_ylim()[0]):\n",
    "    plt.gca().set_ylim([np.min(Credits)-10,100])\n",
    "for i in range(2):\n",
    "    lines[i].set_xdata(range(game_id+1))\n",
    "    lines[i].set_ydata(Credits[i,0:(game_id+1)])\n",
    "plt.draw()"
   ]
  }
 ],
 "metadata": {
  "kernelspec": {
   "display_name": "Python 2",
   "language": "python",
   "name": "python2"
  },
  "language_info": {
   "codemirror_mode": {
    "name": "ipython",
    "version": 2
   },
   "file_extension": ".py",
   "mimetype": "text/x-python",
   "name": "python",
   "nbconvert_exporter": "python",
   "pygments_lexer": "ipython2",
   "version": "2.7.10"
  }
 },
 "nbformat": 4,
 "nbformat_minor": 0
}
